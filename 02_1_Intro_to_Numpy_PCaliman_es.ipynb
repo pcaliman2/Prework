{
  "cells": [
    {
      "cell_type": "markdown",
      "metadata": {
        "id": "view-in-github",
        "colab_type": "text"
      },
      "source": [
        "<a href=\"https://colab.research.google.com/github/pcaliman2/Prework/blob/main/02_1_Intro_to_Numpy_PCaliman_es.ipynb\" target=\"_parent\"><img src=\"https://colab.research.google.com/assets/colab-badge.svg\" alt=\"Open In Colab\"/></a>"
      ]
    },
    {
      "cell_type": "markdown",
      "id": "bdfbcacc",
      "metadata": {
        "id": "bdfbcacc"
      },
      "source": [
        "![Logo de NumPy](https://github.com/4GeeksAcademy/machine-learning-prework/blob/main/02-numpy/assets/numpy_logo.png?raw=true)\n",
        "\n",
        "## Introducción a NumPy\n",
        "\n",
        "`NumPy` es un juego de palabras que significa **Python numérico** (*Numerical Python*). Es una librería de código abierto que se utiliza para llevar a cabo tareas matemáticas con altísima eficiencia. Además, introduce estructuras de datos como los arrays multidimensionales, que se pueden operar entre ellos a alto nivel, sin meterse mucho en el detalle.\n",
        "\n",
        "En concreto, las claves de esta librería son:\n",
        "\n",
        "- **Array multidimensionales**: Esta librería proporciona un objeto llamado `ndarray`, que permite almacenar y manipular grandes conjuntos de datos de forma eficiente. Los arrays pueden tener cualquier número de dimensiones.\n",
        "- **Operaciones Vectorizadas**: NumPy permite realizar operaciones matemáticas en arrays completos sin la necesidad de bucles explícitos en el código, lo que lo hace muy rápido y eficiente.\n",
        "- **Funciones matemáticas**: NumPy proporciona una amplia gama de funciones matemáticas para trabajar con arrays, incluyendo funciones trigonométricas, estadísticas, álgebra lineal, entre otras.\n",
        "- **Eficiencia**: Es mucho más rápido que la misma funcionalidad implementada directamente sobre Python nativo. Además, es muy flexible en términos de acceso y manipulación de elementos individuales o subconjuntos de arrays.\n",
        "\n",
        "NumPy es una biblioteca fundamental para el Machine Learning y la ciencia de los datos en Python. Proporciona una amplia gama de herramientas y funciones para trabajar eficientemente con datos numéricos en forma de arrays y matrices."
      ]
    },
    {
      "cell_type": "markdown",
      "id": "dc410026",
      "metadata": {
        "id": "dc410026"
      },
      "source": [
        "### Arrays\n",
        "\n",
        "Un **array** de NumPy es una estructura de datos que permite almacenar una colección de elementos, generalmente números, en una o más dimensiones.\n",
        "\n",
        "#### Array unidimensional\n",
        "\n",
        "Un array unidimensional (1D) de NumPy es una estructura de datos que contiene una secuencia de elementos en una única dimensión. Es similar a una lista en Python, pero con las ventajas de rendimiento y funcionalidad que ofrece NumPy.\n",
        "\n",
        "![Array de una dimensión](https://github.com/4GeeksAcademy/machine-learning-prework/blob/main/02-numpy/assets/1D.png?raw=true \"1D\")\n",
        "\n",
        "Un array 1D puede ser creado usando la función `array` de la librería con una lista de elementos como argumento. Por ejemplo:"
      ]
    },
    {
      "cell_type": "code",
      "execution_count": null,
      "id": "d8a0686b",
      "metadata": {
        "id": "d8a0686b",
        "outputId": "c377385e-d887-4817-8cbc-54be08217ff7"
      },
      "outputs": [
        {
          "data": {
            "text/plain": [
              "array([1, 2, 3, 4, 5])"
            ]
          },
          "execution_count": 1,
          "metadata": {},
          "output_type": "execute_result"
        }
      ],
      "source": [
        "import numpy as np\n",
        "\n",
        "array = np.array([1, 2, 3, 4, 5])\n",
        "array"
      ]
    },
    {
      "cell_type": "markdown",
      "id": "e090f7a0",
      "metadata": {
        "id": "e090f7a0"
      },
      "source": [
        "Esto creará un array 1D con los elementos 1, 2, 3, 4 y 5. Los elementos del array deben ser del mismo tipo de datos. Si los elementos son de diferentes tipos, NumPy intentará convertirlos al mismo tipo si es posible.\n",
        "\n",
        "En un array 1D, podemos acceder a los elementos usando **índices** (*indexes*), modificarlos y realizar operaciones matemáticas en el array completo de forma eficiente. A continuación se muestran algunas operaciones que se pueden realizar utilizando el array anterior:"
      ]
    },
    {
      "cell_type": "code",
      "execution_count": null,
      "id": "a56cb1b0",
      "metadata": {
        "id": "a56cb1b0",
        "outputId": "7ef3773c-c69f-41bf-93bc-0b8a7d7d0177"
      },
      "outputs": [
        {
          "name": "stdout",
          "output_type": "stream",
          "text": [
            "3\n",
            "[1 7 3 4 5]\n",
            "[11 17 13 14 15]\n",
            "70\n"
          ]
        }
      ],
      "source": [
        "# Acceder al tercer elemento\n",
        "print(array[2])\n",
        "\n",
        "# Cambiar el valor del segundo elemento\n",
        "array[1] = 7\n",
        "print(array)\n",
        "\n",
        "# Sumar 10 a todos los elementos\n",
        "array += 10\n",
        "print(array)\n",
        "\n",
        "# Calcular la suma de los elementos\n",
        "sum_all = np.sum(array)\n",
        "print(sum_all)"
      ]
    },
    {
      "cell_type": "markdown",
      "id": "322771b1",
      "metadata": {
        "id": "322771b1"
      },
      "source": [
        "#### Array N-dimensional\n",
        "\n",
        "Un array multidimensional o n-dimensional en NumPy es una estructura de datos que organiza elementos en múltiples dimensiones (ejes). Estos arrays permiten representar estructuras de datos más complejas, como matrices (array 2D, 2 ejes), tensores (array 3D, 3 ejes) y estructuras de mayor dimensión.\n",
        "\n",
        "![Arrays de diferentes dimensiones](https://github.com/4GeeksAcademy/machine-learning-prework/blob/main/02-numpy/assets/3D.png?raw=true \"3D\")\n",
        "\n",
        "Un array N-dimensional puede ser creado también usando la función `array` de la librería. Por ejemplo, si queremos crear un array 2D:"
      ]
    },
    {
      "cell_type": "code",
      "execution_count": null,
      "id": "2033ba3c",
      "metadata": {
        "id": "2033ba3c",
        "outputId": "7cd42c2c-1c27-4f98-90ab-b59327791979"
      },
      "outputs": [
        {
          "data": {
            "text/plain": [
              "array([[1, 2, 3],\n",
              "       [4, 5, 6],\n",
              "       [7, 8, 9]])"
            ]
          },
          "execution_count": 3,
          "metadata": {},
          "output_type": "execute_result"
        }
      ],
      "source": [
        "array_2d = np.array([[1, 2, 3], [4, 5, 6], [7, 8, 9]])\n",
        "array_2d"
      ]
    },
    {
      "cell_type": "markdown",
      "id": "d3dac6c2",
      "metadata": {
        "id": "d3dac6c2"
      },
      "source": [
        "Si ahora quisiéramos crear un array 3D, tendríamos que pensar en él como una lista de matrices:"
      ]
    },
    {
      "cell_type": "code",
      "execution_count": null,
      "id": "bc914841",
      "metadata": {
        "id": "bc914841",
        "outputId": "907b0a18-062a-40ca-ae93-f50e27754a13"
      },
      "outputs": [
        {
          "data": {
            "text/plain": [
              "array([[[1, 2],\n",
              "        [3, 4]],\n",
              "\n",
              "       [[5, 6],\n",
              "        [7, 8]]])"
            ]
          },
          "execution_count": 4,
          "metadata": {},
          "output_type": "execute_result"
        }
      ],
      "source": [
        "array_3d = np.array([[[1, 2], [3, 4]], [[5, 6], [7, 8]]])\n",
        "array_3d"
      ]
    },
    {
      "cell_type": "markdown",
      "id": "da7bcb64",
      "metadata": {
        "id": "da7bcb64"
      },
      "source": [
        "Al igual que sucedía con los arrays 1D, los elementos en un array multidimensional son accesibles mediante índices, se pueden realizar operaciones con ellos, etcétera.\n",
        "\n",
        "A medida que agregamos más dimensiones, el principio básico sigue siendo el mismo: cada dimensión adicional puede considerarse como un nivel adicional de anidamiento. Sin embargo, a nivel práctico, trabajar con arrays de más de 3 o 4 dimensiones puede volverse más complejo y menos intuitivo.\n",
        "\n",
        "Los arrays n-dimensionales en NumPy permiten una gran flexibilidad y potencia para representar y manipular datos en formas más complejas, especialmente útiles en campos como la ciencia de los datos, procesamiento de imágenes y aprendizaje profundo."
      ]
    },
    {
      "cell_type": "markdown",
      "id": "d699ac98",
      "metadata": {
        "id": "d699ac98"
      },
      "source": [
        "### Funciones\n",
        "\n",
        "NumPy proporciona una gran cantidad de funciones predefinidas y que se pueden aplicar directamente sobre las estructuras de datos vistas anteriormente o las propias de Python (listas, matrices, etcétera). Algunas de las más utilizadas en el análisis de datos son:"
      ]
    },
    {
      "cell_type": "code",
      "execution_count": null,
      "id": "e7680306",
      "metadata": {
        "id": "e7680306",
        "outputId": "1dd07b64-c288-44ad-a9bc-5a9955bdcb9a"
      },
      "outputs": [
        {
          "name": "stdout",
          "output_type": "stream",
          "text": [
            "Suma: [ 6  7  8  9 10]\n",
            "Producto: [ 3  6  9 12 15]\n",
            "Logaritmo natural: [0.         0.69314718 1.09861229 1.38629436 1.60943791]\n",
            "Exponencial: [  2.71828183   7.3890561   20.08553692  54.59815003 148.4131591 ]\n",
            "Media: 3.0\n",
            "Mediana: 3.0\n",
            "Desviación estándar: 1.4142135623730951\n",
            "Varianza: 2.0\n",
            "Máximo valor: 5\n",
            "Índice del máximo valor: 4\n",
            "Mínimo valor: 1\n",
            "Índice del mínimo valor: 0\n",
            "Suma de todos los elementos: 15\n",
            "Redondeo: [1. 2. 4. 5.]\n",
            "Entero menor (floor): [1. 2. 3. 4.]\n",
            "Entero mayor (ceil): [2. 3. 4. 5.]\n"
          ]
        }
      ],
      "source": [
        "import numpy as np\n",
        "\n",
        "# Crear un array para el ejemplo\n",
        "arr = np.array([1, 2, 3, 4, 5])\n",
        "\n",
        "# Operaciones Aritméticas\n",
        "print(\"Suma:\", np.add(arr, 5))\n",
        "print(\"Producto:\", np.multiply(arr, 3))\n",
        "\n",
        "# Logarítmicas y Exponenciales\n",
        "print(\"Logaritmo natural:\", np.log(arr))\n",
        "print(\"Exponencial:\", np.exp(arr))\n",
        "\n",
        "# Funciones Estadísticas\n",
        "print(\"Media:\", np.mean(arr))\n",
        "print(\"Mediana:\", np.median(arr))\n",
        "print(\"Desviación estándar:\", np.std(arr))\n",
        "print(\"Varianza:\", np.var(arr))\n",
        "print(\"Máximo valor:\", np.max(arr))\n",
        "print(\"Índice del máximo valor:\", np.argmax(arr))\n",
        "print(\"Mínimo valor:\", np.min(arr))\n",
        "print(\"Índice del mínimo valor:\", np.argmin(arr))\n",
        "print(\"Suma de todos los elementos:\", np.sum(arr))\n",
        "\n",
        "# Funciones de Redondeo\n",
        "arr_decimal = np.array([1.23, 2.47, 3.56, 4.89])\n",
        "print(\"Redondeo:\", np.around(arr_decimal))\n",
        "print(\"Entero menor (floor):\", np.floor(arr_decimal))\n",
        "print(\"Entero mayor (ceil):\", np.ceil(arr_decimal))"
      ]
    },
    {
      "cell_type": "markdown",
      "id": "51b5cda3",
      "metadata": {
        "id": "51b5cda3"
      },
      "source": [
        "## Ejercicios: Haz clic en \"open in colab\" para realizarlos\n",
        "\n",
        "> Solución: https://github.com/4GeeksAcademy/machine-learning-prework/blob/main/02-numpy/02.1-Intro-to-Numpy_solutions.ipynb\n",
        "\n",
        "### Creación de arrays"
      ]
    },
    {
      "cell_type": "markdown",
      "id": "e3c20b3d",
      "metadata": {
        "id": "e3c20b3d"
      },
      "source": [
        "#### Ejercicio 01:  Crea un **vector nulo** (*null vector*) que tenga 10 elementos (★☆☆)\n",
        "\n",
        "Un vector nulo es un array de una dimensión compuesto por ceros (`0`).\n",
        "\n",
        "> NOTA: Revisa la función `np.zeros` (https://numpy.org/doc/stable/reference/generated/numpy.zeros.html)"
      ]
    },
    {
      "cell_type": "code",
      "execution_count": 3,
      "id": "8a758bcf",
      "metadata": {
        "id": "8a758bcf",
        "colab": {
          "base_uri": "https://localhost:8080/"
        },
        "outputId": "1e9b2eff-fbf8-47df-b7cc-acf523bd0828"
      },
      "outputs": [
        {
          "output_type": "execute_result",
          "data": {
            "text/plain": [
              "array([0., 0., 0., 0., 0., 0., 0., 0., 0., 0.])"
            ]
          },
          "metadata": {},
          "execution_count": 3
        }
      ],
      "source": [
        "#Creacion de Vectores e Import\n",
        "import numpy as np\n",
        "np.zeros(10)\n"
      ]
    },
    {
      "cell_type": "markdown",
      "id": "6cbe7954",
      "metadata": {
        "id": "6cbe7954"
      },
      "source": [
        "#### Ejercicio 02: Crea un vector de unos que tenga 10 elementos (★☆☆)\n",
        "\n",
        "> NOTA: Revisa la función `np.ones` (https://numpy.org/doc/stable/reference/generated/numpy.ones.html)"
      ]
    },
    {
      "cell_type": "code",
      "execution_count": null,
      "id": "86477874",
      "metadata": {
        "id": "86477874",
        "colab": {
          "base_uri": "https://localhost:8080/"
        },
        "outputId": "9443b4f9-c743-4ee0-e0c2-a4b5c6aaba07"
      },
      "outputs": [
        {
          "output_type": "execute_result",
          "data": {
            "text/plain": [
              "array([1., 1., 1., 1., 1., 1., 1., 1., 1., 1.])"
            ]
          },
          "metadata": {},
          "execution_count": 3
        }
      ],
      "source": [
        "np.ones(10)"
      ]
    },
    {
      "cell_type": "markdown",
      "id": "0a708990",
      "metadata": {
        "id": "0a708990"
      },
      "source": [
        "#### Ejercicio 03: Investiga la función `linspace` de NumPy y crea un array que contenga 10 elementos (★☆☆)\n",
        "\n",
        "> NOTA: Revisa la función `np.linspace` (https://numpy.org/doc/stable/reference/generated/numpy.linspace.html)"
      ]
    },
    {
      "cell_type": "code",
      "execution_count": null,
      "id": "477e01f4",
      "metadata": {
        "id": "477e01f4",
        "outputId": "756bf2f3-5301-4cf2-b5da-cc3e36a61e95",
        "colab": {
          "base_uri": "https://localhost:8080/"
        }
      },
      "outputs": [
        {
          "output_type": "execute_result",
          "data": {
            "text/plain": [
              "array([ 0.        ,  1.11111111,  2.22222222,  3.33333333,  4.44444444,\n",
              "        5.55555556,  6.66666667,  7.77777778,  8.88888889, 10.        ])"
            ]
          },
          "metadata": {},
          "execution_count": 4
        }
      ],
      "source": [
        "np.linspace(0,10,10)"
      ]
    },
    {
      "cell_type": "markdown",
      "id": "9794fe71",
      "metadata": {
        "id": "9794fe71"
      },
      "source": [
        "#### Ejercicio 04: Busca varias formas de generar un array con números aleatorios y crea un array 1D y dos arrays 2D (★★☆)\n",
        "\n",
        "> NOTA: Revisa las funciones `np.random.rand` (https://numpy.org/doc/stable/reference/random/generated/numpy.random.rand.html), `np.random.randint` (https://numpy.org/doc/stable/reference/random/generated/numpy.random.randint.html) y `np.random.randn` (https://numpy.org/doc/stable/reference/random/generated/numpy.random.randn.html)"
      ]
    },
    {
      "cell_type": "code",
      "execution_count": null,
      "id": "3d9a48a7",
      "metadata": {
        "id": "3d9a48a7",
        "outputId": "6e14342f-5a99-4956-dba6-7de63d6b9859",
        "colab": {
          "base_uri": "https://localhost:8080/"
        }
      },
      "outputs": [
        {
          "output_type": "execute_result",
          "data": {
            "text/plain": [
              "array([[-0.69977691, -0.24033995, -1.87624285, -0.6268252 ,  1.34693144,\n",
              "         0.39940721, -1.67960904,  1.56923156,  0.78354445, -0.78321127]])"
            ]
          },
          "metadata": {},
          "execution_count": 11
        }
      ],
      "source": [
        "np.random.randn(1,10)"
      ]
    },
    {
      "cell_type": "code",
      "source": [
        "np.random.randn(5, 5)"
      ],
      "metadata": {
        "id": "r2dyy6PZyZ0i",
        "outputId": "676b94e2-dc69-4e3d-d1f2-6dfec2101574",
        "colab": {
          "base_uri": "https://localhost:8080/"
        }
      },
      "id": "r2dyy6PZyZ0i",
      "execution_count": null,
      "outputs": [
        {
          "output_type": "execute_result",
          "data": {
            "text/plain": [
              "array([[ 0.99658549,  0.06267454, -0.07607377, -0.54863004,  0.34070777],\n",
              "       [ 0.11169783, -0.27415152,  0.3838073 ,  0.03899957,  1.02984155],\n",
              "       [ 0.29274182, -0.25402378, -0.15278559,  0.63353102, -0.88889964],\n",
              "       [ 0.56417997, -0.30601874, -0.06394224,  2.23019962, -0.36363807],\n",
              "       [-0.96937975,  1.48656232,  0.0272156 , -1.27701997,  1.21682005]])"
            ]
          },
          "metadata": {},
          "execution_count": 4
        }
      ]
    },
    {
      "cell_type": "code",
      "source": [
        "np.random.randint(1, 10, size = (2, 5))"
      ],
      "metadata": {
        "id": "usPxPnz-yZQY",
        "outputId": "2efc0089-42a3-4e78-80cc-bc61e6ec701e",
        "colab": {
          "base_uri": "https://localhost:8080/"
        }
      },
      "id": "usPxPnz-yZQY",
      "execution_count": null,
      "outputs": [
        {
          "output_type": "execute_result",
          "data": {
            "text/plain": [
              "array([[6, 9, 1, 8, 5],\n",
              "       [6, 9, 7, 8, 6]])"
            ]
          },
          "metadata": {},
          "execution_count": 5
        }
      ]
    },
    {
      "cell_type": "markdown",
      "id": "78a37e5c",
      "metadata": {
        "id": "78a37e5c"
      },
      "source": [
        "#### Ejercicio 05: Crea una matriz (array 2D) identidad de 5x5 (★☆☆)\n",
        "\n",
        "\n",
        "> NOTA: Revisa la función `np.eye`(https://numpy.org/devdocs/reference/generated/numpy.eye.html)"
      ]
    },
    {
      "cell_type": "code",
      "execution_count": 29,
      "id": "a6751106",
      "metadata": {
        "id": "a6751106",
        "outputId": "16cc9bbf-5b47-4d9f-ba32-e3855c4718f3",
        "colab": {
          "base_uri": "https://localhost:8080/"
        }
      },
      "outputs": [
        {
          "output_type": "execute_result",
          "data": {
            "text/plain": [
              "array([[1., 0., 0., 0., 0.],\n",
              "       [0., 1., 0., 0., 0.],\n",
              "       [0., 0., 1., 0., 0.],\n",
              "       [0., 0., 0., 1., 0.],\n",
              "       [0., 0., 0., 0., 1.]])"
            ]
          },
          "metadata": {},
          "execution_count": 29
        }
      ],
      "source": [
        "#Matrix Identidad de 5x5\n",
        "np.eye(5)"
      ]
    },
    {
      "cell_type": "markdown",
      "id": "08bb63e6",
      "metadata": {
        "id": "08bb63e6"
      },
      "source": [
        "#### Ejercicio 06: Crea una matriz con números aleatorios de 3x2 y calcula el valor mínimo y máximo (★☆☆)\n",
        "\n",
        "> NOTA: Revisa la función `np.min` (https://numpy.org/devdocs/reference/generated/numpy.min.html) y `np.max` (https://numpy.org/devdocs/reference/generated/numpy.max.html)"
      ]
    },
    {
      "cell_type": "code",
      "execution_count": null,
      "id": "3214cca1",
      "metadata": {
        "id": "3214cca1",
        "outputId": "e2e1fac3-f53a-4d92-ee47-a58c1564a519",
        "colab": {
          "base_uri": "https://localhost:8080/"
        }
      },
      "outputs": [
        {
          "output_type": "stream",
          "name": "stdout",
          "text": [
            "La Matriz generada es:\n",
            "[[0.98588595 0.01617032]\n",
            " [0.40823834 0.34740613]\n",
            " [0.74390382 0.38936985]]\n",
            "\n",
            "El Minimo Valor en la Matriz es: 0.016170317747487895 \n",
            "El Maximo Valor en la Matriz es: 0.9858859502819423\n"
          ]
        }
      ],
      "source": [
        "#Asignacion de la Variable\n",
        "Matriz = np.random.rand(3,2)\n",
        "Min_Matriz = np.min(Matriz)\n",
        "Max_Matriz = np.max(Matriz)\n",
        "print(\"La Matriz generada es:\")\n",
        "print(Matriz)\n",
        "print(f\"\\nEl Minimo Valor en la Matriz es: {Min_Matriz} \\nEl Maximo Valor en la Matriz es: {Max_Matriz}\")"
      ]
    },
    {
      "cell_type": "markdown",
      "id": "57c6c275",
      "metadata": {
        "id": "57c6c275"
      },
      "source": [
        "#### Ejercicio 07: Crea un vector con números aleatorios de 30 elementos y calcula la media (★☆☆)\n",
        "\n",
        "> NOTA: Revisa la función `np.mean` (https://numpy.org/doc/stable/reference/generated/numpy.mean.html)"
      ]
    },
    {
      "cell_type": "code",
      "execution_count": null,
      "id": "cc960ba5",
      "metadata": {
        "id": "cc960ba5",
        "outputId": "0a12e265-e9ae-4925-f7c9-38a42d87e0a6",
        "colab": {
          "base_uri": "https://localhost:8080/"
        }
      },
      "outputs": [
        {
          "output_type": "stream",
          "name": "stdout",
          "text": [
            "La Media de las Edades es: 17.0\n"
          ]
        }
      ],
      "source": [
        "#Voy a crear la Muestra como si fueran edades del\n",
        "#Ultimo Anno de Educación Superios\n",
        "\n",
        "Edades = np.random.randint(16,19,30)\n",
        "Media_edades = np.mean(Edades)\n",
        "print(f\"La Media de las Edades es: {Media_edades}\")\n"
      ]
    },
    {
      "cell_type": "markdown",
      "id": "2c801667",
      "metadata": {
        "id": "2c801667"
      },
      "source": [
        "#### Ejercicio 08: Convierte la lista `[1, 2, 3]` y la tupla `(1, 2, 3)` en arrays (★☆☆)"
      ]
    },
    {
      "cell_type": "code",
      "execution_count": 5,
      "id": "3f36c71c",
      "metadata": {
        "id": "3f36c71c",
        "colab": {
          "base_uri": "https://localhost:8080/"
        },
        "outputId": "6e1bf151-c5de-4d87-a328-1cd1554cfcc5"
      },
      "outputs": [
        {
          "output_type": "stream",
          "name": "stdout",
          "text": [
            "[1 2 3]\n",
            "[1 2 3]\n"
          ]
        }
      ],
      "source": [
        "# prompt: Convierte la lista [1, 2, 3] y la tupla (1, 2, 3) en arrays\n",
        "\n",
        "import numpy as np\n",
        "\n",
        "# Convertir la lista a un array\n",
        "lista = [1, 2, 3]\n",
        "array_lista = np.array(lista)\n",
        "print(array_lista)\n",
        "\n",
        "# Convertir la tupla a un array\n",
        "tupla = (1, 2, 3)\n",
        "array_tupla = np.array(tupla)\n",
        "print(array_tupla)\n"
      ]
    },
    {
      "cell_type": "markdown",
      "id": "962bb9fc",
      "metadata": {
        "id": "962bb9fc"
      },
      "source": [
        "### Operaciones entre arrays"
      ]
    },
    {
      "cell_type": "markdown",
      "id": "48d48f01",
      "metadata": {
        "id": "48d48f01"
      },
      "source": [
        "#### Ejercicio 09: Invierte el vector del ejercicio anterior (★☆☆)\n",
        "\n",
        "> NOTA: Revisa la función `np.flip` (https://numpy.org/doc/stable/reference/generated/numpy.flip.html)"
      ]
    },
    {
      "cell_type": "code",
      "execution_count": 6,
      "id": "d3e13052",
      "metadata": {
        "id": "d3e13052",
        "colab": {
          "base_uri": "https://localhost:8080/"
        },
        "outputId": "7a0f9d6b-5056-410b-993e-18c675c66e28"
      },
      "outputs": [
        {
          "output_type": "execute_result",
          "data": {
            "text/plain": [
              "array([3, 2, 1])"
            ]
          },
          "metadata": {},
          "execution_count": 6
        }
      ],
      "source": [
        "np.flip(array_lista)"
      ]
    },
    {
      "cell_type": "markdown",
      "id": "233addce",
      "metadata": {
        "id": "233addce"
      },
      "source": [
        "#### Ejercicio 10: Cambia el tamaño de un array aleatorio de dimensiones 5x12 en 12x5 (★☆☆)\n",
        "\n",
        "> NOTA: Revisa la función `np.reshape` (https://numpy.org/doc/stable/reference/generated/numpy.reshape.html)"
      ]
    },
    {
      "cell_type": "code",
      "execution_count": 8,
      "id": "bfaed09f",
      "metadata": {
        "id": "bfaed09f",
        "colab": {
          "base_uri": "https://localhost:8080/"
        },
        "outputId": "f3bc8fb1-3c1b-46b6-82c6-986b2aa6757b"
      },
      "outputs": [
        {
          "output_type": "stream",
          "name": "stdout",
          "text": [
            "[[0.23352306 0.97849592 0.02613001 0.00348258 0.91570057 0.89683579\n",
            "  0.55360636 0.54792162 0.32798735 0.00513429 0.63293253 0.61659578]\n",
            " [0.90408263 0.11311494 0.2244732  0.04407863 0.46015524 0.12337698\n",
            "  0.92823303 0.89363528 0.39035762 0.02245333 0.89807789 0.96432896]\n",
            " [0.53455081 0.68567917 0.64523234 0.5684119  0.99525831 0.17183172\n",
            "  0.0576241  0.78032785 0.37992221 0.05285854 0.66619641 0.07493361]\n",
            " [0.66743942 0.5840052  0.04746639 0.70447836 0.01379559 0.65446272\n",
            "  0.71350426 0.14928667 0.01370761 0.50593552 0.56113694 0.16317528]\n",
            " [0.30297107 0.61342818 0.40328927 0.62147339 0.92155349 0.83084935\n",
            "  0.08855697 0.88265677 0.68103326 0.06817668 0.19782246 0.44478081]]\n",
            "[[0.23352306 0.97849592 0.02613001 0.00348258 0.91570057]\n",
            " [0.89683579 0.55360636 0.54792162 0.32798735 0.00513429]\n",
            " [0.63293253 0.61659578 0.90408263 0.11311494 0.2244732 ]\n",
            " [0.04407863 0.46015524 0.12337698 0.92823303 0.89363528]\n",
            " [0.39035762 0.02245333 0.89807789 0.96432896 0.53455081]\n",
            " [0.68567917 0.64523234 0.5684119  0.99525831 0.17183172]\n",
            " [0.0576241  0.78032785 0.37992221 0.05285854 0.66619641]\n",
            " [0.07493361 0.66743942 0.5840052  0.04746639 0.70447836]\n",
            " [0.01379559 0.65446272 0.71350426 0.14928667 0.01370761]\n",
            " [0.50593552 0.56113694 0.16317528 0.30297107 0.61342818]\n",
            " [0.40328927 0.62147339 0.92155349 0.83084935 0.08855697]\n",
            " [0.88265677 0.68103326 0.06817668 0.19782246 0.44478081]]\n"
          ]
        }
      ],
      "source": [
        "#Arrglo Original\n",
        "Arreglo_Init = np.random.rand(5,12)\n",
        "print(Arreglo_Init)\n",
        "\n",
        "#Aplicamos Reshape\n",
        "Arreglo_Reformado = Arreglo_Init.reshape(12,5)\n",
        "print(Arreglo_Reformado)"
      ]
    },
    {
      "cell_type": "markdown",
      "id": "645e5381",
      "metadata": {
        "id": "645e5381"
      },
      "source": [
        "#### Ejercicio 11: Convierte la lista `[1, 2, 0, 0, 4, 0]` en un array y obtén el índice de los elementos que no son cero (★★☆)\n",
        "\n",
        "> NOTA: Revisa la función `np.where` (https://numpy.org/devdocs/reference/generated/numpy.where.html)"
      ]
    },
    {
      "cell_type": "code",
      "execution_count": 14,
      "id": "b2652fee",
      "metadata": {
        "id": "b2652fee",
        "colab": {
          "base_uri": "https://localhost:8080/"
        },
        "outputId": "9e153774-d037-487a-f209-84ad3015967c"
      },
      "outputs": [
        {
          "output_type": "stream",
          "name": "stdout",
          "text": [
            "[1 2 0 0 4 0]\n",
            "(array([0, 1, 4]),)\n"
          ]
        }
      ],
      "source": [
        "ListaInicial = [1, 2, 0, 0, 4, 0]\n",
        "\n",
        "arayw=np.array(ListaInicial)\n",
        "print(arayw)\n",
        "IndicesDeLosNoCeros=np.where(arayw != 0)\n",
        "print(IndicesDeLosNoCeros)\n"
      ]
    },
    {
      "cell_type": "markdown",
      "id": "e7948dbb",
      "metadata": {
        "id": "e7948dbb"
      },
      "source": [
        "#### Ejercicio 12: Convierte la lista `[0, 5, -1, 3, 15]` en un array, multiplica sus valores por `-2` y obtén los elementos pares (★★☆)"
      ]
    },
    {
      "cell_type": "code",
      "execution_count": 26,
      "metadata": {
        "id": "qyspczFZuoKX",
        "colab": {
          "base_uri": "https://localhost:8080/"
        },
        "outputId": "af38cea7-1a17-403f-caf9-0d1568fb205e"
      },
      "outputs": [
        {
          "output_type": "stream",
          "name": "stdout",
          "text": [
            "[ 0 10 -2  6 30]\n"
          ]
        }
      ],
      "source": [
        "List_dos = [0, 5, -1, 3, 15]\n",
        "array_dos = np.array(List_dos)\n",
        "array_dos = array_dos * 2\n",
        "dd=array_dos % 2 == 0\n",
        "NumPares = array_dos[array_dos % 2 == 0]\n",
        "print(NumPares)\n"
      ],
      "id": "qyspczFZuoKX"
    },
    {
      "cell_type": "markdown",
      "id": "a90d6f3e",
      "metadata": {
        "id": "a90d6f3e"
      },
      "source": [
        "#### Ejercicio 13: Crea un vector aleatorio de 10 elementos y ordénalo de menor a mayor (★★☆)\n",
        "\n",
        "> NOTA: Revisa la función `np.sort` (https://numpy.org/doc/stable/reference/generated/numpy.sort.html)"
      ]
    },
    {
      "cell_type": "code",
      "execution_count": 28,
      "id": "bc373a83",
      "metadata": {
        "id": "bc373a83",
        "colab": {
          "base_uri": "https://localhost:8080/"
        },
        "outputId": "935d0207-1ee8-44eb-fd0d-3590b82c8ef1"
      },
      "outputs": [
        {
          "output_type": "stream",
          "name": "stdout",
          "text": [
            "[0.89494354 0.58882993 0.0733649  0.31010133 0.75512762 0.38940485\n",
            " 0.29645983 0.28632849 0.15447905 0.01668594]\n",
            "Arreglo Ordenado\n",
            "[0.01668594 0.0733649  0.15447905 0.28632849 0.29645983 0.31010133\n",
            " 0.38940485 0.58882993 0.75512762 0.89494354]\n"
          ]
        }
      ],
      "source": [
        "Vecto_10_Elemnts = np.random.rand(10)\n",
        "print(Vecto_10_Elemnts)\n",
        "print(\"Arreglo Ordenado\")\n",
        "Vecto_10_Elemnts = np.sort(Vecto_10_Elemnts)\n",
        "print(Vecto_10_Elemnts)"
      ]
    },
    {
      "cell_type": "markdown",
      "id": "5e9b6115",
      "metadata": {
        "id": "5e9b6115"
      },
      "source": [
        "#### Ejercicio 14: Genera dos vectores aleatorios de 8 elementos y aplica las operaciones de suma, resta y multiplicación entre ellos (★★☆)\n",
        "\n",
        "> NOTA: Revisa las funciones matemáticas: https://numpy.org/doc/stable/reference/routines.math.html"
      ]
    },
    {
      "cell_type": "code",
      "execution_count": 31,
      "id": "cc77e421",
      "metadata": {
        "id": "cc77e421",
        "colab": {
          "base_uri": "https://localhost:8080/"
        },
        "outputId": "d6782353-e26c-415b-df8c-11c8c8f96cc7"
      },
      "outputs": [
        {
          "output_type": "stream",
          "name": "stdout",
          "text": [
            "Suma de Vectores\n",
            "[0.83335912 0.39072292 0.37919723 0.87811567 0.18701147 0.88774753\n",
            " 1.25338822 1.49796509]\n",
            "Resta de Vectores\n",
            "[ 0.40340929 -0.31969758 -0.05978316 -0.41582876 -0.18002379 -0.21057534\n",
            " -0.15514239 -0.26502141]\n",
            "Multiplicacion de Vectores\n",
            "[0.13293709 0.01261446 0.03505413 0.14954339 0.00064118 0.18593843\n",
            " 0.38672822 0.54341576]\n"
          ]
        }
      ],
      "source": [
        "Vector_01 = np.random.rand(8)\n",
        "Vector_02 = np.random.rand(8)\n",
        "suma= Vector_01 + Vector_02\n",
        "resta= Vector_01 - Vector_02\n",
        "multiplicacion= Vector_01 * Vector_02\n",
        "print(\"Suma de Vectores\")\n",
        "print(suma)\n",
        "print(\"Resta de Vectores\")\n",
        "print(resta)\n",
        "print(\"Multiplicacion de Vectores\")\n",
        "print(multiplicacion)"
      ]
    },
    {
      "cell_type": "markdown",
      "id": "c8e8daa0",
      "metadata": {
        "id": "c8e8daa0"
      },
      "source": [
        "#### Ejercicio 15: Convierte la lista `[1, 2, 3, 4, 5, 6, 7, 8, 9, 10, 11, 12]` en un array y transfórmalo en una matriz con filas de 3 columnas (★★★)"
      ]
    },
    {
      "cell_type": "code",
      "execution_count": 37,
      "metadata": {
        "id": "GMIBqUnwuoKx",
        "colab": {
          "base_uri": "https://localhost:8080/"
        },
        "outputId": "ecf47a76-ce98-4422-d331-055751a0c55a"
      },
      "outputs": [
        {
          "output_type": "stream",
          "name": "stdout",
          "text": [
            "[[ 1  2  3]\n",
            " [ 4  5  6]\n",
            " [ 7  8  9]\n",
            " [10 11 12]]\n"
          ]
        }
      ],
      "source": [
        "Lista_01 =[1, 2, 3, 4, 5, 6, 7, 8, 9, 10, 11, 12]\n",
        "arreglo = np.array(Lista_01)\n",
        "arreglo2=np.reshape(arreglo, (4, 3))\n",
        "print( arreglo2)"
      ],
      "id": "GMIBqUnwuoKx"
    }
  ],
  "metadata": {
    "kernelspec": {
      "display_name": "Python 3",
      "language": "python",
      "name": "python3"
    },
    "language_info": {
      "codemirror_mode": {
        "name": "ipython",
        "version": 3
      },
      "file_extension": ".py",
      "mimetype": "text/x-python",
      "name": "python",
      "nbconvert_exporter": "python",
      "pygments_lexer": "ipython3",
      "version": "3.11.4"
    },
    "colab": {
      "provenance": [],
      "include_colab_link": true
    }
  },
  "nbformat": 4,
  "nbformat_minor": 5
}